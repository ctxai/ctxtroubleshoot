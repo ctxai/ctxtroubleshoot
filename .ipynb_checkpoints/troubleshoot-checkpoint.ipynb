{
 "cells": [
  {
   "cell_type": "code",
   "execution_count": null,
   "metadata": {
    "collapsed": false
   },
   "outputs": [],
   "source": [
    "import pandas as pd\n",
    "import requests\n",
    "import  plotly.graph_objs as go\n",
    "import plotly.offline as offline\n",
    "from plotly.offline import init_notebook_mode\n",
    "import json\n",
    "\n",
    "init_notebook_mode(connected=True)"
   ]
  },
  {
   "cell_type": "code",
   "execution_count": null,
   "metadata": {
    "collapsed": false
   },
   "outputs": [],
   "source": [
    "# Download government projects dataset\n",
    "\n",
    "url = \"http://data.nsw.gov.au/data/dataset/56f0b52a-1354-4910-b681-509ecd92888e/resource/f381c222-e33b-40ca-aaa5-a6a0f6839a18/download/nswbudgetpaper2201516points.json\"\n",
    "jsn = requests.get(url)"
   ]
  },
  {
   "cell_type": "code",
   "execution_count": null,
   "metadata": {
    "collapsed": false
   },
   "outputs": [],
   "source": [
    "# Convert json to dataframe\n",
    "dict_data = json.load(jsn.content)\n",
    "pd_data   = pd.DataFrame([f[\"features\"] for f in dict_data[\"properties\"]])"
   ]
  },
  {
   "cell_type": "code",
   "execution_count": null,
   "metadata": {
    "collapsed": false
   },
   "outputs": [],
   "source": [
    "# Calculate project completion duration from completion year and start year. And get the average completion duration\n",
    "series_plot = pd_data.groupby([\"AgencyCategory\"])[\"duration\"].sum()"
   ]
  },
  {
   "cell_type": "code",
   "execution_count": null,
   "metadata": {
    "collapsed": false
   },
   "outputs": [],
   "source": [
    "x      = pd_data.duration\n",
    "y      = pd_data.AgencyCategory\n",
    "data   = [go.Box(x=x,y=y)]\n",
    "layout = go.Layout(xaxis=go.XAxis(title='Agencies'), \n",
    "                   yaxis=go.YAxis(title='# of Years'))\n",
    "\n",
    "figure = go.Figure(layout=layout,data=data )"
   ]
  },
  {
   "cell_type": "markdown",
   "metadata": {},
   "source": [
    "# Average Project Completion by Govt Agencies\n",
    "If you can produce the graphs below then you have successfully completed this exercise."
   ]
  },
  {
   "cell_type": "markdown",
   "metadata": {},
   "source": [
    "Congratulations!"
   ]
  },
  {
   "cell_type": "code",
   "execution_count": null,
   "metadata": {
    "collapsed": false,
    "scrolled": false
   },
   "outputs": [],
   "source": [
    "offline.iplot(figure)"
   ]
  },
  {
   "cell_type": "code",
   "execution_count": null,
   "metadata": {
    "collapsed": false
   },
   "outputs": [],
   "source": [
    "%%html\n",
    "<script>\n",
    "  function code_toggle() {\n",
    "    if (code_shown){\n",
    "      $('div.input').hide('500');\n",
    "      $('#toggleButton').val('Show Code')\n",
    "    } else {\n",
    "      $('div.input').show('500');\n",
    "      $('#toggleButton').val('Hide Code')\n",
    "    }\n",
    "    code_shown = !code_shown\n",
    "  }\n",
    "\n",
    "  $( document ).ready(function(){\n",
    "    code_shown=false;\n",
    "    $('div.input').hide()\n",
    "  });\n",
    "</script>\n",
    "<form action=\"javascript:code_toggle()\"><input type=\"submit\" id=\"toggleButton\" value=\"Show Code\"></form>"
   ]
  }
 ],
 "metadata": {
  "kernelspec": {
   "display_name": "Python 2",
   "language": "python",
   "name": "python2"
  },
  "language_info": {
   "codemirror_mode": {
    "name": "ipython",
    "version": 2
   },
   "file_extension": ".py",
   "mimetype": "text/x-python",
   "name": "python",
   "nbconvert_exporter": "python",
   "pygments_lexer": "ipython2",
   "version": "2.7.10"
  }
 },
 "nbformat": 4,
 "nbformat_minor": 1
}
